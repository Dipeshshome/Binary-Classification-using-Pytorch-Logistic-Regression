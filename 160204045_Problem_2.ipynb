{
  "nbformat": 4,
  "nbformat_minor": 0,
  "metadata": {
    "colab": {
      "name": "160204045_Problem#2.ipynb",
      "provenance": [],
      "collapsed_sections": [],
      "toc_visible": true
    },
    "kernelspec": {
      "name": "python3",
      "display_name": "Python 3"
    }
  },
  "cells": [
    {
      "cell_type": "markdown",
      "metadata": {
        "id": "KV0XTMRINOvz"
      },
      "source": [
        "# Abstract\r\n",
        "In this experiment, we applied logistic regression with different  hyperparameter settings on the dataset NumtaDB. We got testing accuracy of 60.68% from the best model among three different model."
      ]
    },
    {
      "cell_type": "markdown",
      "metadata": {
        "id": "UrQxJ82BNVmw"
      },
      "source": [
        "# Problem Definition\r\n",
        "The main objective of this experiment is design a binary classification model that can recongnize  `[0-9]` Bengali handwritten digits using logistic regression with different hyperparameter settings."
      ]
    },
    {
      "cell_type": "markdown",
      "metadata": {
        "id": "S7zjPR7zNZCk"
      },
      "source": [
        "# Dataset\r\n",
        "Ekush is multipurpose and multitype comphrehensive database for bengali handwritten character. In this experiment we will consider the dataset for recongnizing male/female from handwritten digits. For that we consider two CSV file named male_digits and female_digits which are the converted from image dataset to reduce I/0 time. After  merging the two csv file we got 30830 rows with 785 columns(784 features and 1 label).\r\n",
        "\r\n",
        "**Snapshot from Ekush**\r\n",
        "\r\n",
        "<div align=\"center\">\r\n",
        "<img src=\"https://drive.google.com/uc?id=1GhuJfYchOjfNoBtwkpWivPRQinegMYwy\" width=\"600\">\r\n",
        "</div>"
      ]
    },
    {
      "cell_type": "markdown",
      "metadata": {
        "id": "a0OhF2ICNc8K"
      },
      "source": [
        "# Workflow of Methodology\r\n",
        "I characterize the complete work flow into nine steps.\r\n",
        "\r\n",
        "1. Data Preprocessing.\r\n",
        "2. Normalize the data.\r\n",
        "3. Train-Test split.\r\n",
        "4. Setting up hyperparameters.\r\n",
        "5. Initialize Logistic regression model, loss and optimizer.\r\n",
        "6. Training data and evaluation on testing data interms of loss and accuracy.\r\n",
        "7. Save Model.\r\n",
        "8. Build Binary classification model\r\n",
        "9. Prediction of male/female from digits.\r\n"
      ]
    },
    {
      "cell_type": "markdown",
      "metadata": {
        "id": "BT6WSZgarxxQ"
      },
      "source": [
        "# Preprocessing of Data\r\n",
        "Csv files are consist of 784 features and 1 label where labels are for the digits.But in out problem we have to predict the male or m=female handwritten digits. So we have to manuall label the dataset for our task. First we remove the labels then merged the two csv files:maledigits.csv and femaledigits.csv. After that i manually label the maledigits.csv as 0 and femaledigits.csv as 1. Finally deivide the features with 255 to make the features value between [0,1] to reduce processing time. For normalizing we use standardscaler of sklearn package and convert it to torch tensor for convenient our task.The standard scaler function works like $featurevalue=(featurevalue-mean)/s.deviation$ where the value of mean and standard deviation is 0.5."
      ]
    },
    {
      "cell_type": "markdown",
      "metadata": {
        "id": "mn8jod4pN13q"
      },
      "source": [
        "# Logistic Regression\r\n",
        "\r\n",
        "Logistic regression is supervised machine learning classification algorithm.Though it is known as regression but the output of the algorithm is discrete value[0,1]. The goal of logistic regression is to minimize the error between its predictions and training data. This algorithm is pretty similar to linear regression but the difference is in logistic regression there used sigmoid activation function which made the decision boundary curved.\r\n",
        "\r\n",
        "$$s= \\sigma(w^Tx+b)=\\sigma(z)=\\frac{1}{1+e^{-z}} $$"
      ]
    },
    {
      "cell_type": "markdown",
      "metadata": {
        "id": "gKRjuvsdOCss"
      },
      "source": [
        "# Loss Function and Optimizer\r\n",
        "\r\n",
        "In this experiment, I used two types of loss function: Binary Crossentropy loss(BCEloss) and Mean square error(MSELoss). BCEloss perform better in this experiment on the other hand MSEloss value is too high.\r\n",
        "\r\n",
        "For BCELoss:\r\n",
        "\r\n",
        "$$\\ J(w,b)=\\frac{1}{m}\\sum_{i=1}^{m} L(\\bar{y^{i}},{y^i})=-\\frac{1}{m}\\sum_{i=1}^{m}[y^ilog(\\bar{y^i})+(1-y^i)log(\\bar{1-y^i})]$$\r\n",
        "\r\n",
        "\r\n",
        "\r\n",
        "To optimize the loss function i used two types of optimizer:SGD and Adam with different learning rate and number of iteration.\r\n"
      ]
    },
    {
      "cell_type": "markdown",
      "metadata": {
        "id": "-4c4DNoeOFWi"
      },
      "source": [
        "# Experimental Setup\r\n",
        "\r\n",
        "In this experiment i used pytorch API and google colab with various python packages: numpy, pandas, matplotlib. I got access pytorch version 1.7.0+cu101 with T4 Tesla GPU from colab. It takes more than 4 hour to complete the task."
      ]
    },
    {
      "cell_type": "markdown",
      "metadata": {
        "id": "mmH9K748OIYa"
      },
      "source": [
        "# Train-Test Splitting Ratio\r\n",
        "\r\n",
        "The entire dataset is splitted with proportion to 90:10 data are assinged randomly in training and testing data. Training dataset contains 27747 data and test data contains 3083 data."
      ]
    },
    {
      "cell_type": "markdown",
      "metadata": {
        "id": "XRCfq8X4gHoe"
      },
      "source": [
        "# Result Analysis\r\n",
        "\r\n",
        "I tried this experiment with different hyperparameter settings. Here i visualize the best three experimented settings.This models achieved accuracy of 60.49%, 57.24% and 60.68% respectively. \r\n",
        "\r\n",
        "**Hyper parameter settings**\r\n",
        "\r\n",
        "| Settings 1       | Settings 2       | Settings 3     |\r\n",
        "|:-------------    | :------------:   | -----------:   |\r\n",
        "|L_rate=0.01       | L_rate=0.01      | L_rate=0.0001  |\r\n",
        "|Optimizer:SGD     | Optimizer:SGD    | Optimizer:Adam |\r\n",
        "|num_iter=6000     | num_iter=1000   | num_iter=1000 |\r\n",
        "|Binary_cross_entropy | MSELoss     | Binary_cross_entropy | |\r\n",
        "\r\n"
      ]
    },
    {
      "cell_type": "markdown",
      "metadata": {
        "id": "JqY3tUFo6dp4"
      },
      "source": [
        "# Result Comparison\r\n",
        "\r\n",
        "**Loss Graphs**\r\n",
        "<div align=\"center\">\r\n",
        "<div class=\"column\">\r\n",
        "  <img src=\"https://drive.google.com/uc?id=1_dlC510lkcyMEar6JrGOhLtXhGoD-Aiw\" width=\"700\">\r\n",
        "  </div>\r\n",
        "  </div>\r\n",
        "\r\n",
        "From the loss graph, we can see that the loss is gradually  decreasing in all the settings. When we apply BCEloss (Fig:1 and 3) the loss curve is decreasing and value is moderately good but when we apply MSEloss the loss values ar too high and at a point the loss value are again increasing which affect the accuracy graph.\r\n",
        "\r\n",
        "**Accuracy Graphs**\r\n",
        "  <div align=\"center\">\r\n",
        "<div class=\"column\">\r\n",
        "  <img src=\"https://drive.google.com/uc?id=1YUW_wqA0nQfp5zbf2SROT_Vdob8L2csS\" width=\"700\">\r\n",
        "  </div>\r\n",
        "  </div>\r\n",
        "\r\n",
        "From the accuracy graph,we can say that the accuracy graph of fig 1 and 3 is increasing gradually but the fig 2 graph is abnormal that mayb cause of loss function which is not a optimized loss function for this dataset.The accuracy of the settings 1, settings 2 and settings 3 are 60.49%, 57.24% and 60.68% respectively.\r\n",
        "\r\n"
      ]
    },
    {
      "cell_type": "markdown",
      "metadata": {
        "id": "zCHseK-FlBXi"
      },
      "source": [
        "# Implementation/Code"
      ]
    },
    {
      "cell_type": "code",
      "metadata": {
        "id": "k4iG-BhyJI3q"
      },
      "source": [
        "import numpy as np\r\n",
        "import pandas as pd\r\n",
        "import torch\r\n",
        "import torch.nn as nn\r\n",
        "import torch.nn.functional as F\r\n",
        "import torch.optim as optim\r\n",
        "from torch.utils.data import Dataset\r\n",
        "from torch.utils.data.sampler import SubsetRandomSampler\r\n",
        "from torchvision import datasets, transforms, models\r\n",
        "import matplotlib\r\n",
        "import matplotlib.pyplot as plt\r\n",
        "from PIL import Image\r\n",
        "from sklearn.preprocessing import StandardScaler"
      ],
      "execution_count": null,
      "outputs": []
    },
    {
      "cell_type": "code",
      "metadata": {
        "colab": {
          "base_uri": "https://localhost:8080/"
        },
        "id": "u8DTByoZ0H9O",
        "outputId": "b17876c1-4c87-4f71-d746-f77ab84d3dda"
      },
      "source": [
        "import os\r\n",
        "import zipfile\r\n",
        "from os import path\r\n",
        "import shutil\r\n",
        "\r\n",
        "# Define data path\r\n",
        "data_path = '/content/drive/MyDrive/digits/'\r\n",
        "data_dir_list = os.listdir(data_path)\r\n",
        "print(data_dir_list)"
      ],
      "execution_count": null,
      "outputs": [
        {
          "output_type": "stream",
          "text": [
            "['femaleDigits.csv', 'maleDigits.csv']\n"
          ],
          "name": "stdout"
        }
      ]
    },
    {
      "cell_type": "code",
      "metadata": {
        "id": "YgI-o9Fi0FVh"
      },
      "source": [
        "def showRawTrainingSamples(csv_filename):\r\n",
        "  df = pd.read_csv(data_path + csv_filename)\r\n",
        "  print(csv_filename)\r\n",
        "  print(df.columns)\r\n",
        "  return df\r\n"
      ],
      "execution_count": null,
      "outputs": []
    },
    {
      "cell_type": "code",
      "metadata": {
        "colab": {
          "base_uri": "https://localhost:8080/"
        },
        "id": "ghJnwikc07Sh",
        "outputId": "bc463ee1-17a7-40cb-a564-6cd603fd644c"
      },
      "source": [
        "male_csv=showRawTrainingSamples('maleDigits.csv')\r\n",
        "female_csv=showRawTrainingSamples('femaleDigits.csv')"
      ],
      "execution_count": null,
      "outputs": [
        {
          "output_type": "stream",
          "text": [
            "maleDigits.csv\n",
            "Index(['pixel0', 'pixel1', 'pixel2', 'pixel3', 'pixel4', 'pixel5', 'pixel6',\n",
            "       'pixel7', 'pixel8', 'pixel9',\n",
            "       ...\n",
            "       'pixel775', 'pixel776', 'pixel777', 'pixel778', 'pixel779', 'pixel780',\n",
            "       'pixel781', 'pixel782', 'pixel783', 'label'],\n",
            "      dtype='object', length=785)\n",
            "femaleDigits.csv\n",
            "Index(['pixel0', 'pixel1', 'pixel2', 'pixel3', 'pixel4', 'pixel5', 'pixel6',\n",
            "       'pixel7', 'pixel8', 'pixel9',\n",
            "       ...\n",
            "       'pixel775', 'pixel776', 'pixel777', 'pixel778', 'pixel779', 'pixel780',\n",
            "       'pixel781', 'pixel782', 'pixel783', 'label'],\n",
            "      dtype='object', length=785)\n"
          ],
          "name": "stdout"
        }
      ]
    },
    {
      "cell_type": "code",
      "metadata": {
        "colab": {
          "base_uri": "https://localhost:8080/"
        },
        "id": "Ts5vbRyP0Gmn",
        "outputId": "13082a24-4bdb-4f2b-fbaf-fc65b56f7217"
      },
      "source": [
        "total_csv = [male_csv,female_csv]\r\n",
        "#total_csv = [a_csv,d_csv]\r\n",
        "merged_csv = pd.concat(total_csv)\r\n",
        "print(len(merged_csv))\r\n",
        "\r\n"
      ],
      "execution_count": null,
      "outputs": [
        {
          "output_type": "stream",
          "text": [
            "30830\n"
          ],
          "name": "stdout"
        }
      ]
    },
    {
      "cell_type": "code",
      "metadata": {
        "id": "fD4FROVvPUhn"
      },
      "source": [
        "#Y_train = merged_csv[\"label\"]\r\n",
        "train = merged_csv.drop(labels = [\"label\"],axis = 1)\r\n",
        "# Normalize the data\r\n",
        "train = train / 255.0\r\n",
        "\r\n",
        "# Reshape the array into 28 x 28 pixel\r\n",
        "#train = train.values.reshape(-1,28,28,1)"
      ],
      "execution_count": null,
      "outputs": []
    },
    {
      "cell_type": "code",
      "metadata": {
        "colab": {
          "base_uri": "https://localhost:8080/"
        },
        "id": "Mi6yPKGNf_ir",
        "outputId": "5ebb6ffb-47e2-43c4-e4bc-c21864b53309"
      },
      "source": [
        "print(train)"
      ],
      "execution_count": null,
      "outputs": [
        {
          "output_type": "stream",
          "text": [
            "         pixel0    pixel1    pixel2  ...  pixel781  pixel782  pixel783\n",
            "0      0.000000  0.007843  0.000000  ...  0.015686  0.003922  0.003922\n",
            "1      0.000000  0.000000  0.000000  ...  0.003922  0.000000  0.000000\n",
            "2      0.003922  0.000000  0.000000  ...  0.003922  0.003922  0.007843\n",
            "3      0.007843  0.003922  0.003922  ...  0.000000  0.000000  0.007843\n",
            "4      0.000000  0.000000  0.000000  ...  0.000000  0.000000  0.000000\n",
            "...         ...       ...       ...  ...       ...       ...       ...\n",
            "15617  0.000000  0.003922  0.000000  ...  0.000000  0.000000  0.000000\n",
            "15618  0.000000  0.000000  0.000000  ...  0.003922  0.000000  0.003922\n",
            "15619  0.000000  0.000000  0.000000  ...  0.000000  0.000000  0.000000\n",
            "15620  0.003922  0.003922  0.003922  ...  0.000000  0.000000  0.000000\n",
            "15621  0.003922  0.007843  0.000000  ...  0.000000  0.003922  0.000000\n",
            "\n",
            "[30830 rows x 784 columns]\n"
          ],
          "name": "stdout"
        }
      ]
    },
    {
      "cell_type": "code",
      "metadata": {
        "colab": {
          "base_uri": "https://localhost:8080/",
          "height": 281
        },
        "id": "KtG5Lt7BMmcq",
        "outputId": "cd455c19-9094-46ec-8a01-0170fc39a50f"
      },
      "source": [
        "## Displaying a MNIST Image\r\n",
        "\r\n",
        "import matplotlib.pyplot as plt \r\n",
        "import numpy as np\r\n",
        "\r\n",
        "show_img = X_train[50].numpy().reshape(28, 28)\r\n",
        "plt.imshow(show_img, cmap='gray')\r\n",
        "\r\n",
        "print(y_train[50])"
      ],
      "execution_count": null,
      "outputs": [
        {
          "output_type": "stream",
          "text": [
            "tensor([0.])\n"
          ],
          "name": "stdout"
        },
        {
          "output_type": "display_data",
          "data": {
            "image/png": "[encoded data removed]",
            "text/plain": [
              "<Figure size 432x288 with 1 Axes>"
            ]
          },
          "metadata": {
            "tags": [],
            "needs_background": "light"
          }
        }
      ]
    },
    {
      "cell_type": "code",
      "metadata": {
        "id": "rNiQxFRy2Vce"
      },
      "source": [
        "\r\n",
        "from sklearn.utils import shuffle\r\n",
        "from sklearn.model_selection import train_test_split\r\n",
        "# Define the number of classes\r\n",
        "num_classes = 2\r\n",
        "num_of_samples = train.shape[0]\r\n",
        "labelss = np.ones((num_of_samples,),dtype='float32')\r\n",
        "\r\n",
        "labelss[0:15207]=0\r\n",
        "labelss[15207:]=1\r\n",
        "\r\n",
        "\r\n",
        "names = ['male','female']\r\n"
      ],
      "execution_count": null,
      "outputs": []
    },
    {
      "cell_type": "code",
      "metadata": {
        "id": "kmHeA9Oi8Dlf",
        "colab": {
          "base_uri": "https://localhost:8080/"
        },
        "outputId": "bc4db62f-fa6f-4c4f-bfbf-0a77b0efbb5d"
      },
      "source": [
        "#Shuffle the dataset\r\n",
        "x,y = shuffle(train,labelss, random_state=2)\r\n",
        "X_train, X_test, y_train, y_test = train_test_split(x, y, test_size=0.1, random_state=2)\r\n",
        "input_features=x.shape\r\n",
        "print(input_features)"
      ],
      "execution_count": null,
      "outputs": [
        {
          "output_type": "stream",
          "text": [
            "(30830, 784)\n"
          ],
          "name": "stdout"
        }
      ]
    },
    {
      "cell_type": "code",
      "metadata": {
        "colab": {
          "base_uri": "https://localhost:8080/"
        },
        "id": "AlxgaWXaYPNW",
        "outputId": "7eaa1500-502a-4563-feb3-02b499c6ccf3"
      },
      "source": [
        "sc=StandardScaler()\r\n",
        "X_train=sc.fit_transform(X_train)\r\n",
        "X_test=sc.transform(X_test)\r\n",
        "\r\n",
        "X_train=torch.from_numpy(X_train.astype(np.float32))\r\n",
        "X_test=torch.from_numpy(X_test.astype(np.float32))\r\n",
        "y_train=torch.from_numpy(y_train.astype(np.float32))\r\n",
        "y_test=torch.from_numpy(y_test.astype(np.float32))\r\n",
        "\r\n",
        "print(X_train.shape)"
      ],
      "execution_count": null,
      "outputs": [
        {
          "output_type": "stream",
          "text": [
            "torch.Size([27747, 784])\n"
          ],
          "name": "stdout"
        }
      ]
    },
    {
      "cell_type": "code",
      "metadata": {
        "colab": {
          "base_uri": "https://localhost:8080/"
        },
        "id": "Im5OyIkHY9U_",
        "outputId": "ce3c350c-ea89-4a7c-f840-741b00e30bb4"
      },
      "source": [
        "y_train=y_train.view(y_train.shape[0],1)\r\n",
        "y_test=y_test.view(y_test.shape[0],1)\r\n",
        "\r\n",
        "print(y_train)"
      ],
      "execution_count": null,
      "outputs": [
        {
          "output_type": "stream",
          "text": [
            "tensor([[0.],\n",
            "        [0.],\n",
            "        [1.],\n",
            "        ...,\n",
            "        [0.],\n",
            "        [1.],\n",
            "        [1.]])\n"
          ],
          "name": "stdout"
        }
      ]
    },
    {
      "cell_type": "code",
      "metadata": {
        "id": "SkCrzKxfMHBD"
      },
      "source": [
        "class LogisticRegressionModel(nn.Module):\r\n",
        "    def __init__(self, input_size):\r\n",
        "        super().__init__()\r\n",
        "        self.linear = nn.Linear(input_size,1)\r\n",
        "\r\n",
        "    def forward(self, x):\r\n",
        "        y_predicted=torch.sigmoid(self.linear(x))\r\n",
        "        return y_predicted"
      ],
      "execution_count": null,
      "outputs": []
    },
    {
      "cell_type": "code",
      "metadata": {
        "id": "Wzgs-5g8Z2KF"
      },
      "source": [
        "input_features=28*28\r\n",
        "model=LogisticRegressionModel(input_features)\r\n"
      ],
      "execution_count": null,
      "outputs": []
    },
    {
      "cell_type": "markdown",
      "metadata": {
        "id": "ZhIMsjXCMKRT"
      },
      "source": [
        "# Settings 1"
      ]
    },
    {
      "cell_type": "code",
      "metadata": {
        "id": "HUunAdEpMIit"
      },
      "source": [
        "#Hyperparametr\r\n",
        "learning_rate=0.01\r\n",
        "criterion=nn.BCELoss()\r\n",
        "#criterion = torch.nn.MSELoss(reduction='sum')\r\n",
        "#optimizer = torch.optim.Adam(model.parameters(), lr=learning_rate)\r\n",
        "optimizer = torch.optim.SGD(model.parameters(), lr=learning_rate)\r\n",
        "num_iters=6000"
      ],
      "execution_count": null,
      "outputs": []
    },
    {
      "cell_type": "code",
      "metadata": {
        "colab": {
          "base_uri": "https://localhost:8080/"
        },
        "id": "msAoNQkKMIiv",
        "outputId": "306d4eea-fb12-4543-f66b-407c0caa20c2"
      },
      "source": [
        "\r\n",
        "num_epochs=6000\r\n",
        "iteration_loss = []\r\n",
        "iteration_accuracy = []\r\n",
        "for epoch in range(num_epochs):\r\n",
        "  y_predicted=model(X_train)\r\n",
        "  #loss=criterion(y_predicted,y_train)\r\n",
        "  loss=criterion(y_predicted,y_train)\r\n",
        "  loss.backward()\r\n",
        "\r\n",
        "  optimizer.step()\r\n",
        "\r\n",
        "  optimizer.zero_grad()\r\n",
        "\r\n",
        "  if (epoch+1)%500==0:\r\n",
        "    correct=0\r\n",
        "    total=0\r\n",
        "    \r\n",
        "    \r\n",
        "    \r\n",
        "\r\n",
        "    y_predicted=model(X_test)\r\n",
        "    y_predicted_cls=y_predicted.round()\r\n",
        "    total+=y_test.size(0)\r\n",
        "    correct += (y_predicted_cls == y_test).sum()\r\n",
        "    accuracy = 100 * correct.item() / total\r\n",
        "    iteration_accuracy.append(accuracy)    \r\n",
        "    print(f'epoch:{epoch+1},loss={loss.item():.4f}',accuracy)\r\n",
        "    iteration_loss.append(loss.item())"
      ],
      "execution_count": null,
      "outputs": [
        {
          "output_type": "stream",
          "text": [
            "epoch:500,loss=0.6596 59.19558871229322\n",
            "epoch:1000,loss=0.6567 59.876743431722346\n",
            "epoch:1500,loss=0.6551 59.876743431722346\n",
            "epoch:2000,loss=0.6540 59.4550762244567\n",
            "epoch:2500,loss=0.6532 59.61725591955887\n",
            "epoch:3000,loss=0.6525 59.81187155368148\n",
            "epoch:3500,loss=0.6520 60.03892312682452\n",
            "epoch:4000,loss=0.6515 60.33084657800843\n",
            "epoch:4500,loss=0.6511 60.36328251702887\n",
            "epoch:5000,loss=0.6508 60.52546221213104\n",
            "epoch:5500,loss=0.6505 60.42815439506974\n",
            "epoch:6000,loss=0.6502 60.49302627311061\n"
          ],
          "name": "stdout"
        }
      ]
    },
    {
      "cell_type": "code",
      "metadata": {
        "colab": {
          "base_uri": "https://localhost:8080/"
        },
        "id": "D4_JwVniMIix",
        "outputId": "1cc93d42-ed00-4685-e83f-7d42a346fd99"
      },
      "source": [
        "with torch.no_grad():\r\n",
        "  y_predicted=model(X_test)\r\n",
        "  y_predicted_cls=y_predicted.round()\r\n",
        "  print(y_predicted_cls)\r\n",
        "  acc=y_predicted_cls.eq(y_test).sum()/float(y_test.shape[0])\r\n",
        "  print(f'accuracy={acc:.4f}')\r\n"
      ],
      "execution_count": null,
      "outputs": [
        {
          "output_type": "stream",
          "text": [
            "tensor([[0.],\n",
            "        [1.],\n",
            "        [1.],\n",
            "        ...,\n",
            "        [1.],\n",
            "        [1.],\n",
            "        [0.]])\n",
            "accuracy=0.6049\n"
          ],
          "name": "stdout"
        }
      ]
    },
    {
      "cell_type": "code",
      "metadata": {
        "colab": {
          "base_uri": "https://localhost:8080/",
          "height": 319
        },
        "id": "5_G5tZBxMIiy",
        "outputId": "69f302b9-36ba-4056-be51-086e1bbcadb7"
      },
      "source": [
        "import matplotlib\r\n",
        "import matplotlib.pyplot as plt\r\n",
        "\r\n",
        "print (iteration_loss)\r\n",
        "plt.plot(iteration_loss)\r\n",
        "plt.ylabel('Cross Entropy Loss')\r\n",
        "plt.xlabel('Iteration (in every 500)')\r\n",
        "plt.show()"
      ],
      "execution_count": null,
      "outputs": [
        {
          "output_type": "stream",
          "text": [
            "[0.6596119403839111, 0.6566710472106934, 0.6550747752189636, 0.6539829969406128, 0.6531601548194885, 0.6525058746337891, 0.6519675850868225, 0.6515144109725952, 0.6511262059211731, 0.6507893800735474, 0.650493860244751, 0.6502325534820557]\n"
          ],
          "name": "stdout"
        },
        {
          "output_type": "display_data",
          "data": {
            "image/png": "[encoded data removed]",
            "text/plain": [
              "<Figure size 432x288 with 1 Axes>"
            ]
          },
          "metadata": {
            "tags": [],
            "needs_background": "light"
          }
        }
      ]
    },
    {
      "cell_type": "code",
      "metadata": {
        "colab": {
          "base_uri": "https://localhost:8080/",
          "height": 316
        },
        "id": "CdVvX2dfMIi0",
        "outputId": "aa120122-1a19-427f-c8be-ac2f18c49f25"
      },
      "source": [
        "\r\n",
        "import matplotlib\r\n",
        "import matplotlib.pyplot as plt\r\n",
        "\r\n",
        "print (iteration_accuracy)\r\n",
        "plt.plot(iteration_accuracy)\r\n",
        "plt.ylabel('Acccuracy')\r\n",
        "plt.xlabel('Iteration (in every 500)')\r\n",
        "plt.show()"
      ],
      "execution_count": null,
      "outputs": [
        {
          "output_type": "stream",
          "text": [
            "[59.19558871229322, 59.876743431722346, 59.876743431722346, 59.4550762244567, 59.61725591955887, 59.81187155368148, 60.03892312682452, 60.33084657800843, 60.36328251702887, 60.52546221213104, 60.42815439506974, 60.49302627311061]\n"
          ],
          "name": "stdout"
        },
        {
          "output_type": "display_data",
          "data": {
            "image/png": "[encoded data removed]",
            "text/plain": [
              "<Figure size 432x288 with 1 Axes>"
            ]
          },
          "metadata": {
            "tags": [],
            "needs_background": "light"
          }
        }
      ]
    },
    {
      "cell_type": "code",
      "metadata": {
        "id": "7ndnUs10MIi1"
      },
      "source": [
        "root_path = '/content/drive/My Drive/Assignment2/'"
      ],
      "execution_count": null,
      "outputs": []
    },
    {
      "cell_type": "code",
      "metadata": {
        "id": "q72jwELSMIi2"
      },
      "source": [
        "save_model = True\r\n",
        "\r\n",
        "if save_model is True:\r\n",
        "    # Saves only parameters\r\n",
        "    # wights & biases\r\n",
        "    torch.save(model.state_dict(), root_path + 'EkushDB_logistic_1.pkl')"
      ],
      "execution_count": null,
      "outputs": []
    },
    {
      "cell_type": "code",
      "metadata": {
        "colab": {
          "base_uri": "https://localhost:8080/"
        },
        "id": "Xv5_BZu7MIi4",
        "outputId": "98598d51-8242-47a2-ddb0-d62b4119f363"
      },
      "source": [
        "load_model = True\r\n",
        "\r\n",
        "if load_model is True:\r\n",
        "    model.load_state_dict(torch.load(root_path + 'EkushDB_logistic_1.pkl'))\r\n",
        "    print('Trained Model Loaded')"
      ],
      "execution_count": null,
      "outputs": [
        {
          "output_type": "stream",
          "text": [
            "Trained Model Loaded\n"
          ],
          "name": "stdout"
        }
      ]
    },
    {
      "cell_type": "code",
      "metadata": {
        "colab": {
          "base_uri": "https://localhost:8080/"
        },
        "id": "fKgRDYz6MIi5",
        "outputId": "e68a4113-c522-49dd-8f1c-66e30f53a3ed"
      },
      "source": [
        "with torch.no_grad():\r\n",
        "  y_predicted=model(X_test[5:10])\r\n",
        "  y_predicted_cls=y_predicted.round()\r\n",
        "  print(y_predicted_cls)\r\n",
        "  #acc=y_predicted_cls.eq(y_test[0:5]).sum()/float(y_test.shape[0])\r\n",
        "  #print(f'accuracy={acc:.4f}')\r\n",
        "\r\n",
        "  print(y_test[5:10])"
      ],
      "execution_count": null,
      "outputs": [
        {
          "output_type": "stream",
          "text": [
            "tensor([[0.],\n",
            "        [1.],\n",
            "        [0.],\n",
            "        [1.],\n",
            "        [1.]])\n",
            "tensor([[0.],\n",
            "        [0.],\n",
            "        [0.],\n",
            "        [1.],\n",
            "        [1.]])\n"
          ],
          "name": "stdout"
        }
      ]
    },
    {
      "cell_type": "markdown",
      "metadata": {
        "id": "SZzzslNeLaUU"
      },
      "source": [
        "# Settings 2"
      ]
    },
    {
      "cell_type": "code",
      "metadata": {
        "id": "WjNww8YyLWlo"
      },
      "source": [
        "#Hyperparameter\r\n",
        "learning_rate=0.01\r\n",
        "#criterion=nn.BCELoss()\r\n",
        "criterion = torch.nn.MSELoss(reduction='sum')\r\n",
        "#optimizer = torch.optim.Adam(model.parameters(), lr=learning_rate)\r\n",
        "optimizer = torch.optim.SGD(model.parameters(), lr=learning_rate)\r\n",
        "num_iter=1000"
      ],
      "execution_count": null,
      "outputs": []
    },
    {
      "cell_type": "code",
      "metadata": {
        "colab": {
          "base_uri": "https://localhost:8080/"
        },
        "id": "6xM7SuYv5_lr",
        "outputId": "0671d220-e218-4b00-de42-71f4c68f89b1"
      },
      "source": [
        "num_epochs=1000\r\n",
        "iteration_loss = []\r\n",
        "iteration_accuracy = []\r\n",
        "for epoch in range(num_epochs):\r\n",
        "  y_predicted=model(X_train)\r\n",
        "  #loss=criterion(y_predicted,y_train)\r\n",
        "  loss=criterion(y_predicted,y_train)\r\n",
        "  loss.backward()\r\n",
        "\r\n",
        "  optimizer.step()\r\n",
        "\r\n",
        "  optimizer.zero_grad()\r\n",
        "\r\n",
        "  if (epoch+1)%200==0:\r\n",
        "    correct=0\r\n",
        "    total=0\r\n",
        "    y_predicted=model(X_test)\r\n",
        "    y_predicted_cls=y_predicted.round()\r\n",
        "    total+=y_test.size(0)\r\n",
        "    correct += (y_predicted_cls == y_test).sum()\r\n",
        "    accuracy = 100 * correct.item() / total\r\n",
        "    iteration_accuracy.append(accuracy)    \r\n",
        "    print(f'epoch:{epoch+1},loss={loss.item():.4f}',accuracy)\r\n",
        "    iteration_loss.append(loss.item())"
      ],
      "execution_count": null,
      "outputs": [
        {
          "output_type": "stream",
          "text": [
            "epoch:200,loss=11943.2764 57.47648394421019\n",
            "epoch:400,loss=11830.9668 57.0223807979241\n",
            "epoch:600,loss=11769.0049 56.98994485890366\n",
            "epoch:800,loss=11733.1299 57.08725267596497\n",
            "epoch:1000,loss=11750.9707 57.249432371067144\n"
          ],
          "name": "stdout"
        }
      ]
    },
    {
      "cell_type": "code",
      "metadata": {
        "colab": {
          "base_uri": "https://localhost:8080/"
        },
        "id": "6iH4S-iYLWly",
        "outputId": "ec6ffc41-ef5d-4b87-ad33-3c008e7b6c5f"
      },
      "source": [
        "with torch.no_grad():\r\n",
        "  y_predicted=model(X_test)\r\n",
        "  y_predicted_cls=y_predicted.round()\r\n",
        "  print(y_predicted_cls)\r\n",
        "  acc=y_predicted_cls.eq(y_test).sum()/float(y_test.shape[0])\r\n",
        "  print(f'accuracy={acc:.4f}')\r\n"
      ],
      "execution_count": null,
      "outputs": [
        {
          "output_type": "stream",
          "text": [
            "tensor([[0.],\n",
            "        [0.],\n",
            "        [1.],\n",
            "        ...,\n",
            "        [0.],\n",
            "        [1.],\n",
            "        [0.]])\n",
            "accuracy=0.5725\n"
          ],
          "name": "stdout"
        }
      ]
    },
    {
      "cell_type": "code",
      "metadata": {
        "colab": {
          "base_uri": "https://localhost:8080/",
          "height": 297
        },
        "id": "ERiJmeihLWly",
        "outputId": "97b8d87d-ca6e-4b0e-aea8-172d02798361"
      },
      "source": [
        "import matplotlib\r\n",
        "import matplotlib.pyplot as plt\r\n",
        "\r\n",
        "print (iteration_loss)\r\n",
        "plt.plot(iteration_loss)\r\n",
        "plt.ylabel('Cross Entropy Loss')\r\n",
        "plt.xlabel('Iteration (in every 500)')\r\n",
        "plt.show()"
      ],
      "execution_count": null,
      "outputs": [
        {
          "output_type": "stream",
          "text": [
            "[11943.2763671875, 11830.966796875, 11769.0048828125, 11733.1298828125, 11750.970703125]\n"
          ],
          "name": "stdout"
        },
        {
          "output_type": "display_data",
          "data": {
            "image/png": "[encoded data removed]",
            "text/plain": [
              "<Figure size 432x288 with 1 Axes>"
            ]
          },
          "metadata": {
            "tags": [],
            "needs_background": "light"
          }
        }
      ]
    },
    {
      "cell_type": "code",
      "metadata": {
        "colab": {
          "base_uri": "https://localhost:8080/",
          "height": 300
        },
        "id": "irBSpBE8LWlz",
        "outputId": "3eb8366a-2435-4dd8-fb08-e18ff3aa80e3"
      },
      "source": [
        "\r\n",
        "import matplotlib\r\n",
        "import matplotlib.pyplot as plt\r\n",
        "\r\n",
        "print (iteration_accuracy)\r\n",
        "plt.plot(iteration_accuracy)\r\n",
        "plt.ylabel('Acccuracy')\r\n",
        "plt.xlabel('Iteration (in every 500)')\r\n",
        "plt.show()"
      ],
      "execution_count": null,
      "outputs": [
        {
          "output_type": "stream",
          "text": [
            "[57.47648394421019, 57.0223807979241, 56.98994485890366, 57.08725267596497, 57.249432371067144]\n"
          ],
          "name": "stdout"
        },
        {
          "output_type": "display_data",
          "data": {
            "image/png": "[encoded data removed]",
            "text/plain": [
              "<Figure size 432x288 with 1 Axes>"
            ]
          },
          "metadata": {
            "tags": [],
            "needs_background": "light"
          }
        }
      ]
    },
    {
      "cell_type": "code",
      "metadata": {
        "id": "rFu6W4HoLWlz"
      },
      "source": [
        "root_path = '/content/drive/My Drive/Assignment2/'"
      ],
      "execution_count": null,
      "outputs": []
    },
    {
      "cell_type": "code",
      "metadata": {
        "id": "ZPtTH6ECLWl0"
      },
      "source": [
        "save_model = True\r\n",
        "\r\n",
        "if save_model is True:\r\n",
        "    # Saves only parameters\r\n",
        "    # wights & biases\r\n",
        "    torch.save(model.state_dict(), root_path + 'EkushDB_logistic_2.pkl')"
      ],
      "execution_count": null,
      "outputs": []
    },
    {
      "cell_type": "code",
      "metadata": {
        "colab": {
          "base_uri": "https://localhost:8080/"
        },
        "id": "rZnhZTGjLWl0",
        "outputId": "bab7ee41-7416-4717-b4b5-2ac2768c1861"
      },
      "source": [
        "load_model = True\r\n",
        "\r\n",
        "if load_model is True:\r\n",
        "    model.load_state_dict(torch.load(root_path + 'EkushDB_logistic_2.pkl'))\r\n",
        "    print('Trained Model Loaded')"
      ],
      "execution_count": null,
      "outputs": [
        {
          "output_type": "stream",
          "text": [
            "Trained Model Loaded\n"
          ],
          "name": "stdout"
        }
      ]
    },
    {
      "cell_type": "code",
      "metadata": {
        "colab": {
          "base_uri": "https://localhost:8080/"
        },
        "id": "2CJwpHDZLWl0",
        "outputId": "6ebd261b-e48e-412a-992d-422ecbf44b2e"
      },
      "source": [
        "with torch.no_grad():\r\n",
        "  y_predicted=model(X_test[5:10])\r\n",
        "  y_predicted_cls=y_predicted.round()\r\n",
        "  print(y_predicted_cls)\r\n",
        "  #acc=y_predicted_cls.eq(y_test[0:5]).sum()/float(y_test.shape[0])\r\n",
        "  #print(f'accuracy={acc:.4f}')\r\n",
        "\r\n",
        "  print(y_test[5:10])"
      ],
      "execution_count": null,
      "outputs": [
        {
          "output_type": "stream",
          "text": [
            "tensor([[1.],\n",
            "        [1.],\n",
            "        [1.],\n",
            "        [0.],\n",
            "        [1.]])\n",
            "tensor([[0.],\n",
            "        [0.],\n",
            "        [0.],\n",
            "        [1.],\n",
            "        [1.]])\n"
          ],
          "name": "stdout"
        }
      ]
    },
    {
      "cell_type": "markdown",
      "metadata": {
        "id": "QM1ySRbzKu43"
      },
      "source": [
        "# Settings 3"
      ]
    },
    {
      "cell_type": "code",
      "metadata": {
        "id": "a7BzBSCRalBl"
      },
      "source": [
        "#Hyperparameter\r\n",
        "learning_rate=0.0001\r\n",
        "criterion=nn.BCELoss()\r\n",
        "#criterion = torch.nn.MSELoss(reduction='sum')\r\n",
        "optimizer = torch.optim.Adam(model.parameters(), lr=learning_rate)\r\n",
        "#optimizer = torch.optim.SGD(model.parameters(), lr=learning_rate)\r\n",
        "number_iter=1000\r\n"
      ],
      "execution_count": null,
      "outputs": []
    },
    {
      "cell_type": "code",
      "metadata": {
        "id": "Y3ytyA3ma3OH",
        "colab": {
          "base_uri": "https://localhost:8080/"
        },
        "outputId": "2fa4941d-7da9-4776-f9d8-777d856c05e2"
      },
      "source": [
        "num_epochs=1000\r\n",
        "iteration_loss = []\r\n",
        "iteration_accuracy = []\r\n",
        "for epoch in range(num_epochs):\r\n",
        "  y_predicted=model(X_train)\r\n",
        "  #loss=criterion(y_predicted,y_train)\r\n",
        "  loss=criterion(y_predicted,y_train)\r\n",
        "  loss.backward()\r\n",
        "\r\n",
        "  optimizer.step()\r\n",
        "\r\n",
        "  optimizer.zero_grad()\r\n",
        "\r\n",
        "  if (epoch+1)%200==0:\r\n",
        "    correct=0\r\n",
        "    total=0\r\n",
        "    y_predicted=model(X_test)\r\n",
        "    y_predicted_cls=y_predicted.round()\r\n",
        "    total+=y_test.size(0)\r\n",
        "    correct += (y_predicted_cls == y_test).sum()\r\n",
        "    accuracy = 100 * correct.item() / total\r\n",
        "    iteration_accuracy.append(accuracy)    \r\n",
        "    print(f'epoch:{epoch+1},loss={loss.item():.4f}',accuracy)\r\n",
        "    iteration_loss.append(loss.item())\r\n",
        "    "
      ],
      "execution_count": null,
      "outputs": [
        {
          "output_type": "stream",
          "text": [
            "epoch:200,loss=0.6665 59.68212779759974\n",
            "epoch:400,loss=0.6605 60.59033409017191\n",
            "epoch:600,loss=0.6574 60.33084657800843\n",
            "epoch:800,loss=0.6554 60.687641907233214\n",
            "epoch:1000,loss=0.6538 60.687641907233214\n"
          ],
          "name": "stdout"
        }
      ]
    },
    {
      "cell_type": "code",
      "metadata": {
        "colab": {
          "base_uri": "https://localhost:8080/"
        },
        "id": "D1VjOlLCT1eJ",
        "outputId": "47f3ef88-d45b-4678-8bee-f7e45f1f2aa1"
      },
      "source": [
        "with torch.no_grad():\r\n",
        "  y_predicted=model(X_test)\r\n",
        "  y_predicted_cls=y_predicted.round()\r\n",
        "  print(y_predicted_cls)\r\n",
        "  acc=y_predicted_cls.eq(y_test).sum()/float(y_test.shape[0])\r\n",
        "  print(f'accuracy={acc:.4f}')\r\n"
      ],
      "execution_count": null,
      "outputs": [
        {
          "output_type": "stream",
          "text": [
            "tensor([[0.],\n",
            "        [1.],\n",
            "        [1.],\n",
            "        ...,\n",
            "        [1.],\n",
            "        [1.],\n",
            "        [1.]])\n",
            "accuracy=0.6069\n"
          ],
          "name": "stdout"
        }
      ]
    },
    {
      "cell_type": "code",
      "metadata": {
        "id": "vk4w5YueJvEM"
      },
      "source": [
        ""
      ],
      "execution_count": null,
      "outputs": []
    },
    {
      "cell_type": "code",
      "metadata": {
        "colab": {
          "base_uri": "https://localhost:8080/",
          "height": 295
        },
        "id": "Q-PfSxhPOVcH",
        "outputId": "c50520d0-d55e-4763-9700-3ca18a60706e"
      },
      "source": [
        "import matplotlib\r\n",
        "import matplotlib.pyplot as plt\r\n",
        "\r\n",
        "print (iteration_loss)\r\n",
        "plt.plot(iteration_loss)\r\n",
        "plt.ylabel('Cross Entropy Loss')\r\n",
        "plt.xlabel('Iteration (in every 500)')\r\n",
        "plt.show()"
      ],
      "execution_count": null,
      "outputs": [
        {
          "output_type": "stream",
          "text": [
            "[0.6665189266204834, 0.6605004668235779, 0.6574115753173828, 0.6553558707237244, 0.6538389921188354]\n"
          ],
          "name": "stdout"
        },
        {
          "output_type": "display_data",
          "data": {
            "image/png": "[encoded data removed]",
            "text/plain": [
              "<Figure size 432x288 with 1 Axes>"
            ]
          },
          "metadata": {
            "tags": [],
            "needs_background": "light"
          }
        }
      ]
    },
    {
      "cell_type": "code",
      "metadata": {
        "colab": {
          "base_uri": "https://localhost:8080/",
          "height": 295
        },
        "id": "mOMCYviDx3gn",
        "outputId": "098e9a8b-f33e-4e58-f925-d2dd2d98b9e7"
      },
      "source": [
        "\r\n",
        "import matplotlib\r\n",
        "import matplotlib.pyplot as plt\r\n",
        "\r\n",
        "print (iteration_accuracy)\r\n",
        "plt.plot(iteration_accuracy)\r\n",
        "plt.ylabel('Acccuracy')\r\n",
        "plt.xlabel('Iteration (in every 500)')\r\n",
        "plt.show()"
      ],
      "execution_count": null,
      "outputs": [
        {
          "output_type": "stream",
          "text": [
            "[59.68212779759974, 60.59033409017191, 60.33084657800843, 60.687641907233214, 60.687641907233214]\n"
          ],
          "name": "stdout"
        },
        {
          "output_type": "display_data",
          "data": {
            "image/png": "[encoded data removed]",
            "text/plain": [
              "<Figure size 432x288 with 1 Axes>"
            ]
          },
          "metadata": {
            "tags": [],
            "needs_background": "light"
          }
        }
      ]
    },
    {
      "cell_type": "markdown",
      "metadata": {
        "id": "XlRC2BdCKA5h"
      },
      "source": [
        "**Save Model**"
      ]
    },
    {
      "cell_type": "code",
      "metadata": {
        "id": "Z7leWLCmu4Rh"
      },
      "source": [
        "root_path = '/content/drive/My Drive/Assignment2/'"
      ],
      "execution_count": null,
      "outputs": []
    },
    {
      "cell_type": "code",
      "metadata": {
        "id": "Eyx9cQ7ovC0r"
      },
      "source": [
        "save_model = True\r\n",
        "\r\n",
        "if save_model is True:\r\n",
        "    # Saves only parameters\r\n",
        "    # wights & biases\r\n",
        "    torch.save(model.state_dict(), root_path + 'EkushDB_logistic_3.pkl')"
      ],
      "execution_count": null,
      "outputs": []
    },
    {
      "cell_type": "markdown",
      "metadata": {
        "id": "MfEiD0OdKFi6"
      },
      "source": [
        "**Load Model**"
      ]
    },
    {
      "cell_type": "code",
      "metadata": {
        "colab": {
          "base_uri": "https://localhost:8080/"
        },
        "id": "-3BHnulUvFdG",
        "outputId": "c1fe9f6a-0d1d-44a8-a413-4bd054d82967"
      },
      "source": [
        "load_model = True\r\n",
        "\r\n",
        "if load_model is True:\r\n",
        "    model.load_state_dict(torch.load(root_path + 'EkushDB_logistic_3.pkl'))\r\n",
        "    print('Trained Model Loaded')"
      ],
      "execution_count": null,
      "outputs": [
        {
          "output_type": "stream",
          "text": [
            "Trained Model Loaded\n"
          ],
          "name": "stdout"
        }
      ]
    },
    {
      "cell_type": "code",
      "metadata": {
        "colab": {
          "base_uri": "https://localhost:8080/"
        },
        "id": "EfjTIQXjkjUt",
        "outputId": "12b3b604-f237-4ead-9549-930397d702c0"
      },
      "source": [
        "with torch.no_grad():\r\n",
        "  y_predicted=model(X_test[10:20])\r\n",
        "  y_predicted_cls=y_predicted.round()\r\n",
        "  print(y_predicted_cls)\r\n",
        "  #acc=y_predicted_cls.eq(y_test[10:20]).sum()/float(y_test.shape[0])\r\n",
        "  #print(f'accuracy={acc:.4f}')\r\n",
        "\r\n",
        "  print(y_test[10:20])"
      ],
      "execution_count": null,
      "outputs": [
        {
          "output_type": "stream",
          "text": [
            "tensor([[1.],\n",
            "        [1.],\n",
            "        [1.],\n",
            "        [1.],\n",
            "        [1.],\n",
            "        [1.],\n",
            "        [1.],\n",
            "        [1.],\n",
            "        [1.],\n",
            "        [0.]])\n",
            "tensor([[1.],\n",
            "        [0.],\n",
            "        [1.],\n",
            "        [0.],\n",
            "        [1.],\n",
            "        [1.],\n",
            "        [1.],\n",
            "        [0.],\n",
            "        [0.],\n",
            "        [0.]])\n"
          ],
          "name": "stdout"
        }
      ]
    },
    {
      "cell_type": "markdown",
      "metadata": {
        "id": "bdZvc6VrDiTx"
      },
      "source": [
        "# Conclusion\r\n",
        "\r\n",
        "From the above observation we can come to a conclusion that the models accuracy is moderate in different hyperparameter settings as we applied logistic regression.Logistic regression is simple classification model in machine learning. We might get better accuracy if we experiment on neural network model."
      ]
    }
  ]
}